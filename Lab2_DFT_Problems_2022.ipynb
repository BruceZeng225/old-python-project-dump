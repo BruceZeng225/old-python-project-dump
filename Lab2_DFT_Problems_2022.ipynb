{
 "cells": [
  {
   "cell_type": "markdown",
   "metadata": {},
   "source": [
    "**General tips for computing and plotting discrete fourier transforms (DFT)**"
   ]
  },
  {
   "cell_type": "markdown",
   "metadata": {},
   "source": [
    "- Let g(t) be some time signal that’s sampled at $dt$ to get a discrete array/list `g = [ … ]`\n",
    "- You don’t need to code your own DFT, use numpy:  `A = numpy.fft.fft(g) * dt`\n",
    "- You should also use `numpy.fft.fftshift( A )` to shift the fft output such that the 0-frequency component is centered (see why here https://docs.scipy.org/doc/numpy/reference/routines.fft.html#background-information) which you probably want when plotting\n",
    "- You can use `f_axis = numpy.fft.fftshift( numpy.fft.fftfreq(len(g), dt) )` to create the frequency axis for plotting the shifted spectrum\n",
    "- Keep in mind the fft output is in general complex, so to compare two fourier transforms (e.g. DFT vs CFT) you should compare either the real and imaginary parts ($z = x + i y$), or the phase and amplitude ($z = r e^{i\\theta}$ ). Amplitude plots are most useful for this lab, show all 4 aspects though if you want.\n",
    "- Note numpy fft assumes the time signal starts at $t = 0$, if yours doesn’t you should center it at zero. If you don’t then the complex components (x and y, or phase) will be off, but the amplitude should not change (why? analytically, recall that axis shifts in either domain are equivalent to complex exponential scaling, which has amplitude 1, in the other domain).\n",
    "- If your time signal g is centered at zero, a hack to ‘rotate it’ to start at zero (and then take the fft and fftshift that) is to do: `fftshift( fft( ifftshift(g) ) )` (you may see mention of this online)"
   ]
  },
  {
   "cell_type": "markdown",
   "metadata": {},
   "source": [
    "# Fourier transform of Gaussian Functions (6 pts)"
   ]
  },
  {
   "cell_type": "markdown",
   "metadata": {},
   "source": [
    "A common function used for the convolution of time series data is the Gaussian function\n",
    "\n",
    "$$  g(t) = \\frac{1}{\\sqrt{\\pi} t_H} e^{-(t/t_H)^2}, $$\n",
    "\n",
    "where $t_H$ is the half duration."
   ]
  },
  {
   "cell_type": "markdown",
   "metadata": {},
   "source": [
    " 1. Plot $g(t)$ for $t_H = 15$ and $t_H = 45$ sec on the same graph with domain $[-100, 100]$ and $dt=10^{-3}$.\n",
    " 2. The analytical formula for the Fourier transform of $g(t)$ is\n",
    "\n",
    "    $$ G(\\omega) = e^\\frac{-\\omega^2 t_H^2}{4}. $$\n",
    "\n",
    "    Compute the discrete Fourier transform (DFT) for both sampled $g(t)$\n",
    "    time series, and compare them to the analytical $G(\\omega)$\n",
    "    for both $t_H$'s on the same graph.\n",
    "\n",
    "    __Hints__: \n",
    "    - As numpy fft assumes signal starts from time 0, you can\n",
    "    use the shift property of Fourier transform to first shift the $g(t)$\n",
    "    to start from zero, and after `fftshift(fft())` operations, multiply\n",
    "    the spectrum by complex exponential sinusoid function.\n",
    "    - You need to sample the theoretical curve $G(w)$ with `w_axis = 2*pi*f_axis`, or else rewrite it as $G(f=\\frac{w}{2\\pi})$ if you'd rather sample it with `f_axis`\n",
    "    - As a guide (so you can be confident of your fft utilization for the remainder of the lab), we expect that the amplitudes (use `numpy.abs(…)`) of the discrete FT and the continuous FT essentially match. The phase won’t necessarily match.\n",
    " 3. Comment on the effect of filtering a general input time function $f(t)$ by $g(t)$\n",
    "    (i.e. convolution of $f(t)$ with $g(t)$), and explain the difference in filtered output\n",
    "    after applying Gaussian functions with $t_H = 15$ or $45$ secs.\n",
    " 4. Comment on how this is related to the time-frequency uncertainty principle (a signal cannot\n",
    "    be infinitesimally sharp both in time and frequency)."
   ]
  },
  {
   "cell_type": "markdown",
   "metadata": {},
   "source": [
    "### Collaborators: None"
   ]
  },
  {
   "cell_type": "code",
   "execution_count": 176,
   "metadata": {},
   "outputs": [
    {
     "data": {
      "image/png": "[encoded data removed]",
      "text/plain": [
       "<Figure size 432x288 with 1 Axes>"
      ]
     },
     "metadata": {
      "needs_background": "light"
     },
     "output_type": "display_data"
    }
   ],
   "source": [
    "import numpy as np\n",
    "import matplotlib.pyplot as plt\n",
    "\n",
    "#parameters\n",
    "dt=0.001\n",
    "n=int(200/dt)\n",
    "j=1/(n*dt)\n",
    "t=np.fft.fftshift(np.fft.fftfreq(n,j))\n",
    "\n",
    "h1=15\n",
    "h2=45\n",
    "\n",
    "#define the gaussian\n",
    "g1=np.exp(-(t/h1)**2)/(np.sqrt(np.pi)*h1)\n",
    "g2=np.exp(-(t/h2)**2)/(np.sqrt(np.pi)*h2)\n",
    "\n",
    "#plot the gaussian\n",
    "plt.plot(t,g1,\"r+\",t,g2,\"b+\")\n",
    "plt.xlabel(\"time\")\n",
    "plt.show()\n"
   ]
  },
  {
   "cell_type": "code",
   "execution_count": 177,
   "metadata": {},
   "outputs": [
    {
     "data": {
      "image/png": "[encoded data removed]",
      "text/plain": [
       "<Figure size 432x288 with 1 Axes>"
      ]
     },
     "metadata": {
      "needs_background": "light"
     },
     "output_type": "display_data"
    },
    {
     "data": {
      "image/png": "[encoded data removed]",
      "text/plain": [
       "<Figure size 432x288 with 1 Axes>"
      ]
     },
     "metadata": {
      "needs_background": "light"
     },
     "output_type": "display_data"
    }
   ],
   "source": [
    "#define the frequece axis\n",
    "fax=np.fft.fftshift(np.fft.fftfreq(len(g1), dt))\n",
    "omega=2*np.pi*fax\n",
    "\n",
    "#DFT the gaussians\n",
    "gft1=np.abs(np.fft.fftshift(np.fft.fft(np.fft.ifftshift(g1))))*dt\n",
    "G1=np.exp(-(omega**2)*(h1**2)/4)\n",
    "\n",
    "gft2=np.abs(np.fft.fftshift(np.fft.fft(np.fft.ifftshift(g2))))*dt\n",
    "G2=np.exp(-(omega**2)*(h2**2)/4)\n",
    "\n",
    "#plot the analytic FT and the DFT of the gaussian\n",
    "plt.plot(fax,gft1,\"r.\",fax,G1)\n",
    "plt.xlabel(\"frequency\")\n",
    "plt.title(\"tH=15\")\n",
    "plt.show()\n",
    "\n",
    "plt.plot(fax,gft2,\"r.\",fax,G2)\n",
    "plt.xlabel(\"frequency\")\n",
    "plt.title(\"tH=45\")\n",
    "plt.show()\n"
   ]
  },
  {
   "cell_type": "markdown",
   "metadata": {},
   "source": [
    "3.\n",
    "\n",
    "The fourier transform of the gaussian is that of the delta function of amplitude 1, then filtering some general function f(t) by g(t) would mean that the fourier transform of filtered function(which is the convolution between the fourier transform of f and g) would just be the fourier transform of f. Since the delta function convolve with any function h(t) would just be h(t) itself.\n",
    "\n",
    "Furthermore we see that the fourier transform when tH=15, has more discrete points than tH=45. Since the analytic fourier transform tells us that G($\\omega$) is the delta function, this means when tH=45 the function reaches the peak faster, then tH=45 has a smaller peak width than tH=15. Which means that the convolution of tH=45 with a general function f(t) would be closer to the convolution of the delta function with f(t), making the resulting fourier transform more accurate than when tH=15.\n",
    "\n",
    "4.\n",
    "\n",
    "Since we see that the fourier transform of gaussian is delta function, this means the fourier transform of the delta function is the gaussain. Since any function infinitely sharp in time/frequency is filtered by the delta function, this means its fourier transform in the frequency/time would be convolved by the fourier transform of the delta function. As we see above, that the fourier transform of delta is the gaussian, and the gaussian convolve with any function cannot result in an infinitely sharp pulse. This means a function cannot be infinitely sharp in both time and frequency."
   ]
  },
  {
   "cell_type": "markdown",
   "metadata": {},
   "source": [
    "# Fourier transform of Window Functions (6 pts)"
   ]
  },
  {
   "cell_type": "markdown",
   "metadata": {},
   "source": [
    "A continuous time signal $f(t)$ can be truncated into a signal of finite length\n",
    "$T$ by window functions $b(t)$:\n",
    "\n",
    "$$ g(t) = f(t) b(t) $$\n",
    "\n",
    "Typical window functions include:\n",
    "\n",
    " * Boxcar function\n",
    "    $$b(t) =\n",
    "    \\begin{cases}\n",
    "    1 & 0 \\leq t \\leq T\n",
    "    \\\\\n",
    "    0 & \\text{else}\n",
    "    \\end{cases}\n",
    "    $$\n",
    " * Hann window\n",
    "    $$b(t) =\n",
    "    \\begin{cases}\n",
    "    \\frac{1}{2} \\left( 1 - \\cos \\frac{2 \\pi t}{T} \\right) & 0 \\leq t \\leq T\n",
    "    \\\\\n",
    "    0 & \\text{else}\n",
    "    \\end{cases}\n",
    "    $$\n",
    "\n",
    "Now let $T = 10$ seconds, and sample both window functions by $\\Delta t = 0.01$ seconds:\n",
    "\n",
    " 1. Plot both window functions on the same graph.\n",
    " 2. Calculate the Fourier transform of both functions by numpy `fft()`. Pay extra attention to\n",
    "    how you interpret the corresponding frequencies of output results from python.\n",
    "    (_Hint_: `fftshift()` may be useful. Also pay attention to the length of the input signal\n",
    "    (> 10 sec), as it dictates the frequency resolution for the spectrum.)\n",
    " 3. Plot the Fourier transform of both functions in the appropriate frequency range on the\n",
    "    same graph.\n",
    " 4. Based on the FTs, comment on the effect of truncating a continuous time series by either\n",
    "    window on its frequency spectrum $G(\\omega)$ compared to the original spectrum $F(\\omega)$.\n",
    " 5. Speculate on the advantages and disadvantages of boxcar and Hann window functions for truncation."
   ]
  },
  {
   "cell_type": "markdown",
   "metadata": {},
   "source": [
    "### Collaborators: None"
   ]
  },
  {
   "cell_type": "code",
   "execution_count": 178,
   "metadata": {},
   "outputs": [
    {
     "data": {
      "image/png": "[encoded data removed]",
      "text/plain": [
       "<Figure size 432x288 with 1 Axes>"
      ]
     },
     "metadata": {
      "needs_background": "light"
     },
     "output_type": "display_data"
    }
   ],
   "source": [
    "#parameters\n",
    "dt=0.01\n",
    "t=np.arange(0,15,dt)\n",
    "T=10\n",
    "\n",
    "#barcar function\n",
    "def boxcar(T,t):\n",
    "    \n",
    "    b=[0]*len(t)\n",
    "    \n",
    "    for n in range(len(t)):\n",
    "        if t[n]<=T:\n",
    "            b[n]=1\n",
    "            \n",
    "    return b\n",
    "\n",
    "#window function    \n",
    "def Hann(T,t):\n",
    "    \n",
    "    h=[0]*len(t)\n",
    "    \n",
    "    for n in range(len(t)):\n",
    "        if t[n]<=T:\n",
    "            h[n]=1/2*(1-np.cos(2*np.pi*t[n]/T))\n",
    "            \n",
    "    return h\n",
    "\n",
    "#define the boxcar and window function over given time domain\n",
    "b=boxcar(T,t)\n",
    "h=Hann(T,t)\n",
    "\n",
    "#plot the boxcar and window function\n",
    "plt.plot(t,b,\"r.\",t,h,\"b.\")\n",
    "plt.xlabel(\"time\")\n",
    "plt.show()"
   ]
  },
  {
   "cell_type": "code",
   "execution_count": 179,
   "metadata": {},
   "outputs": [
    {
     "data": {
      "image/png": "[encoded data removed]",
      "text/plain": [
       "<Figure size 432x288 with 1 Axes>"
      ]
     },
     "metadata": {
      "needs_background": "light"
     },
     "output_type": "display_data"
    },
    {
     "data": {
      "image/png": "[encoded data removed]",
      "text/plain": [
       "<Figure size 432x288 with 1 Axes>"
      ]
     },
     "metadata": {
      "needs_background": "light"
     },
     "output_type": "display_data"
    },
    {
     "data": {
      "image/png": "[encoded data removed]",
      "text/plain": [
       "<Figure size 432x288 with 1 Axes>"
      ]
     },
     "metadata": {
      "needs_background": "light"
     },
     "output_type": "display_data"
    },
    {
     "data": {
      "image/png": "[encoded data removed]",
      "text/plain": [
       "<Figure size 432x288 with 1 Axes>"
      ]
     },
     "metadata": {
      "needs_background": "light"
     },
     "output_type": "display_data"
    }
   ],
   "source": [
    "#DFT the boxcar function\n",
    "bft=np.fft.fft(b)*dt\n",
    "bft=np.fft.fftshift(bft)\n",
    "\n",
    "#DFT the window function\n",
    "hft=np.fft.fft(h)*dt\n",
    "hft=np.fft.fftshift(hft)\n",
    "\n",
    "#plot the DFT of boxcar and window function\n",
    "plt.plot(np.real(bft),\"r+\",np.real(hft),\"b+\")\n",
    "plt.title(\"T=10 and max_t=15\")\n",
    "plt.show()\n",
    "\n",
    "#to see the shape of the fourier transform better, reduce the domain of T and t\n",
    "dt=0.01\n",
    "t=np.arange(0,5,dt)\n",
    "T=1\n",
    "b2=boxcar(T,t)\n",
    "h2=Hann(T,t)\n",
    "\n",
    "bft2=np.fft.fft(b2)*dt\n",
    "bft2=np.fft.fftshift(bft2)\n",
    "\n",
    "hft2=np.fft.fft(h2)*dt\n",
    "hft2=np.fft.fftshift(hft2)\n",
    "\n",
    "plt.plot(np.real(bft2),\"r+\",np.real(hft2),\"b+\")\n",
    "plt.title(\"smaller T and t range\")\n",
    "plt.show()\n",
    "plt.plot(np.real(bft2),\"r\")\n",
    "plt.title(\"smaller T and t range\")\n",
    "plt.show()\n",
    "plt.plot(np.real(hft2),\"b\")\n",
    "plt.title(\"smaller T and t range\")\n",
    "plt.show()"
   ]
  },
  {
   "cell_type": "markdown",
   "metadata": {},
   "source": [
    "4.\n",
    "\n",
    "Based on the shape of the graph:\n",
    "\n",
    "The fourier transform of the boxcar function have a higher central peak, a longer oscillation diminsh across frequency from the central peak, and the diminshing oscillation amplitudes are smaller compared to the fourier transform of the Hann's window function.\n",
    "\n",
    "The fourier transform of Hann's windown function have a smaller central peak amplitude. However the oscillation around the central peak diminsh much faster across frequency, but these oscillation amplitude are greater than those in the boxcar function.\n",
    "\n",
    "For this reason when we trucate a function f(t) by either of the two function, the fourier transform of f(t) convolves with the fourier transform of each of the function respectively:\n",
    "\n",
    "For the boxcar function, since its FT has a small but long lasting diminshing oscillation. The convolved G($\\omega$) will also have a persistant and small noise across frequency domain, as compared to the original FT of f(t).\n",
    "\n",
    "For the Hann function, since the FT has a large and quick diminshing oscillation. The convolved G($\\omega$) will have sharper but louder noise across frequency domain, as compared to F($\\omega$), the original FT of f(t).\n",
    "\n",
    "\n",
    "5.\n",
    "\n",
    "Because of the characteristic mentioned above, I believe the boxcar function is better at trucating across larger time domain, while the Hann function is better at trucating across smaller time domain.\n",
    "\n",
    "Since the boxcar function FT have a long and small amplitude diminshing oscillation, when trucating small time domain it will produce a long background noise. Since when we do the convolution we are essentially taking the dot product of two time series, if the time domain of the trucated time series is small, then there would be more sum of the noise of the boxcar's with data points FT than the central peak. Then it produce a large noise region beyond the trucated area. However this becomes a smaller problem when trucating over large time domain, because when the time series is large, more points in the time series gets summed with the central peak, and since the central peak has a much higher amplitude than the diminshing oscillation. The amplitude of the noise become negligible.\n",
    "\n",
    "The Hann function on the other hand has problem when trucating over large time domain, because for the FT, the amplitude of the diminishing oscillation is very close to the amplitude of the central peak. Then when we take the convolution, it produces a much larger noise within the trucated area compared to the boxcar function. However, the Hann function should be much better at trucating smaller time domain, since the width of the FT of diminishing ocillation is very narrow. This mean compared to the boxcar function, the convolution of FT will be summing less data points with the noise. Then when trucating this across small time domain, it will generates shorter noise beyond the trucated area than the boxcar function."
   ]
  },
  {
   "cell_type": "markdown",
   "metadata": {},
   "source": [
    "# Radial Distribution Function (12 pts)"
   ]
  },
  {
   "cell_type": "markdown",
   "metadata": {},
   "source": [
    "**Background**"
   ]
  },
  {
   "cell_type": "markdown",
   "metadata": {},
   "source": [
    "Liquids have no fixed internal structure. Yet they do have some short range order in the sense\n",
    "that they have preferred intermolecular spacings, which are determined by the locations of minima\n",
    "in the intermolecular potentials. The microscopic structure of liquids is often characterized by a\n",
    "quantity known as the Radial Distribution Function $g(r)$, which is essentially the probability (Relative\n",
    "to the average probability, which means that $g(r)$ tends to 1 at large $r$, where the neighbour is too far\n",
    "away to feel any interaction.) that a molecule has a neighbouring molecule at distance $r$. Typically $g(r)$\n",
    "shows a value that approaches zero at small $r$ since molecules cannot occupy the same space; it also shows a\n",
    "peak at the preferred distance of nearest neighbours, and secondary peaks at preferred distances of more distant\n",
    "neighbours. If a suitable collimated beam of particles (e.g. X-rays or neutrons) is sent through a\n",
    "sample of the liquid, some of the particles are scattered. The number of particles scattered through\n",
    "a given angle is related to the Fourier Transform of $g(r)$ evaluated at the wavenumber $k$\n",
    "corresponding to the transverse momentum transfer associated with that scattering angle. Kittel derives\n",
    "this relationship in Chapter 17 of Introduction to Solid State Physics.\n",
    "\n",
    "If this all sounds complicated, all you need to know here is that something called the Structure\n",
    "Factor $S(k)$ is effectively measured by looking at the scattered intensity as a function of\n",
    "scattering transverse wavenumber $k$ (proportional to scattering angle), and that the Radial Distribution\n",
    "Function is related to it by\n",
    "\n",
    "$$ g(r) = 1 + \\frac{1}{2 \\pi^2 \\rho r} \\int_0^\\infty k \\left( S(k) - 1 \\right) \\sin(kr) dk $$\n",
    "\n",
    "where $\\rho$ is liquid number density (number of atoms per unit volume, computable from the three\n",
    "constants mentioned in the introduction), $k$ is wavenumber, and $r$ is radius.\n",
    "\n",
    " 1. You may have noticed some resemblance between expression (6) and the Fourier transform.\n",
    "    First show that the integration part $\\int_0^\\infty k (S(k) - 1) \\sin(kr) dk$\n",
    "    can be rewritten as\n",
    "\n",
    "    $$p(r) = \\int_{-\\infty}^\\infty \\frac{1}{2i} k \\left( S(k) - 1 \\right) e^{ikr} dk.$$\n",
    "    \n",
    "    __Hint__: The structure factor S(k) is even, since there should be no reason why scattering intensity would be different for one direction (+k) compared to its opposite (−k). Using the fact that S(k) is even may be useful.  \n",
    "\n",
    " 2. Now we can make some connections between the Radial Transfer Function and the Fourier\n",
    "    Transform, if we substitute $r \\rightarrow t$ and $k \\rightarrow \\omega$. What is the Fourier transform\n",
    "    $P(k)$ of $p(r)$? Is $P(k)$ a real, imaginary or general complex function? Is it even or odd? How will these\n",
    "    affect $p(r)$? Is that what you expect? Plot $P(k)$ as a function of $k$ ranging from $-15\\mathrm{\\mathring{A}}^{-1}$ to $15\\mathrm{\\mathring{A}}^{-1}$\n",
    "    based on `argon.py` (i.e. import and use the variables defined there).\n",
    "    \n",
    "    __Hint__: In constructing $S(k)$ from `argon.py`, you should make an \"even\" array twice the length (minus 1) of YanData. \n",
    "    YanData represents the structure factor (i.e. $S(k)$) for argon sampled at the $dk$ defined in the `argon.py` file. \n",
    "\tIt's specifically $S(k)$ sampled from `k = 0` to `k = len(YanData) * dk`, so create an even function out to the same length in the negative direction (i.e. the \"k-axis\" it's sampled on would be `-len(YanData)*dk,  ... 0, ..., + len(YanData)*dk`).\n",
    "\n",
    " 3. Write a Python function `[gn, rn] = RDFcalc(S, dk, rho)` to calculate Radial Distribution\n",
    "    Function $g(r)$ from Structure Factor $S(k)$ data, sampled at $dk$, and density $\\rho$, and output\n",
    "    the RDF vector $g_n$ and its corresponding radial distance vector $r_n$.\n",
    "\n",
    "    __Hint__: for Python `fft()` and `ifft()` functions, realize that the values of the Fourier Transform\n",
    "    corresponding to negative frequencies are stored in the second half of the arrays given to\n",
    "    (`ifft`) or obtained from it (`fft`). You also have to study the difference between the DFT and\n",
    "    FT to multiply the right factors.\n",
    " 4. With the data provided in `argon.py`, compute the corresponding Radial Distribution Function\n",
    "    $g(r)$. Plot your results for $r$ from $0$ to $15\\mathrm{\\mathring{A}}$;. Over what range of radius can you trust your\n",
    "    result?\n",
    "\n",
    "    __Hint__: To check if your results make sense, recall that $g(r)$ is related to the probability that a\n",
    "    molecule has a neighbouring molecule at distance $r$, therefore, should be close to $0$\n",
    "    when $r \\rightarrow 0$, i.e. two molecules can not occupy the same space, and you can\n",
    "    set $g(r = 0) = 0$. Recall $\\lim_{r\\rightarrow\\infty}g(r)=1$. Also note the unit $\\rho$ used in $g(r)$ formula (6).\n",
    "\n",
    " 5. From the $g(r)$ you computed, estimate the average molecular radius $R_a$ of liquid argon. Give\n",
    "    your reasoning and state what accuracy you can justify for your estimation.\n",
    " 6. Now we explore the effect of sampling range. Yan sampled in wavenumber $k$ out to\n",
    "    $k_{max} = 15.24\\mathrm{\\mathring{A}}^{-1}$, and he could have saved himself work by not collecting as much data,\n",
    "    i.e., reducing $k_{max}$. But how much could he have reduced the sampling length $k_{max}$, while still\n",
    "    seeing distinct peaks in the Radial Distribution Function? Also explain theoretically what you observe.\n",
    "\n",
    "    __Hint__: Plot on top of the $g(r)$ obtained in Part 4, the $g(r)$'s you compute for a series of\n",
    "    $k_{max}$ values. You can try half $k_{max}$ each time to look for changes. For the theoretical explanations\n",
    "    for part 6 and 7, realize the interchangability of $t \\leftrightarrow \\omega$ ($r \\leftrightarrow k$).\n",
    "\n",
    " 7. To explore the effect of data sampling, let's assume Yan decided to save his work by sampling\n",
    "    less often (i.e. increasing $dk$). How large a $dk$ can he use to be able to still recover the first\n",
    "    two peaks clearly? State your answers and a theoretical justification for what you expect to\n",
    "    see if you increase $dk$ too much.\n",
    "\n",
    "    __Hint__: Plot on top of the $g(r)$ obtained from `argon.py` data, the $g(r)$'s you obtain when\n",
    "    you subsample the same dataset. Try doubling $dk$ each time to observe the effect of coarser\n",
    "    sampling."
   ]
  },
  {
   "cell_type": "markdown",
   "metadata": {},
   "source": [
    "### Collaborator = None"
   ]
  },
  {
   "cell_type": "markdown",
   "metadata": {},
   "source": [
    "1.\n",
    "\n",
    "We can use euler's formula: $sinx = \\frac{e^{ix}-e^{-ix}}{2i}$\n",
    "\n",
    "Then realize when we take the limit to infinity: $\\lim_{x \\to \\infty} e^{-ix}=0$\n",
    "\n",
    "So when we take the integral to infinity, $sinx =\\frac{e^{ix}}{2i}$\n",
    "\n",
    "Since y=k is odd, and sinkr is also odd. Multiplying the two would give us an even function: $ksin(kr) =k*\\frac{e^{ikr}}{2i}$\n",
    "\n",
    "Since S(k) is even, the multiple of two even function is also even: $ksin(kr)*(s(k)-1) =k*\\frac{e^{ikr}}{2i}*(s(k)-1)$\n",
    "\n",
    "Since this entire function is even, integrate from negative infinity to infinity will give us the same result as integrating from zero to infinity:\n",
    "\n",
    "$\\int_{-\\infty}^\\infty \\frac{1}{2i} k \\left( S(k) - 1 \\right) e^{ikr} dk = \\int_0^\\infty \\frac{1}{2i} k \\left( S(k) - 1 \\right) e^{ikr} dk$"
   ]
  },
  {
   "cell_type": "markdown",
   "metadata": {},
   "source": [
    "2.\n",
    "\n",
    "For fourier transform we have: $g(t)=\\frac{1}{2\\pi}\\int_{-\\infty}^\\infty G(\\omega) e^{it\\omega} d\\omega$\n",
    "\n",
    "Now if we switch $r \\rightarrow t$ and $k \\rightarrow \\omega$ for p(r), we have: \n",
    "$p(t)=\\int_{-\\infty}^\\infty \\frac{1}{2i} \\omega \\left( S(\\omega) - 1 \\right) e^{it\\omega} dk$\n",
    "\n",
    "Based on the difference between the general fourier transform, we can deduce that:\n",
    "$P(\\omega)=\\frac{\\pi}{i} \\omega \\left( S(\\omega) - 1 \\right)$\n",
    "\n",
    "Since P($\\omega$) has factors of i, it is a complex function. Since y=$\\omega$ is odd, and s($\\omega$)-1 is even, P($\\omega$) is also odd.\n",
    "Since P($\\omega$) is odd and complex, p(t) should be odd and real. This is what we should expect, since p(t) is a real measured value."
   ]
  },
  {
   "cell_type": "code",
   "execution_count": 182,
   "metadata": {},
   "outputs": [
    {
     "data": {
      "image/png": "[encoded data removed]",
      "text/plain": [
       "<Figure size 432x288 with 1 Axes>"
      ]
     },
     "metadata": {
      "needs_background": "light"
     },
     "output_type": "display_data"
    }
   ],
   "source": [
    "import sys\n",
    "\n",
    "sys.path.append(r\"C:\\Users\\bruce\\OneDrive\\Desktop\\Year 4\\PHY408\\lab2\")\n",
    "\n",
    "#import py file\n",
    "import argon\n",
    "\n",
    "#define parameter from py file\n",
    "n1=argon.YanData\n",
    "n2=np.flip(n1) #generate a inverted data since Sk is even\n",
    "sk=np.append(n2,n1) #add the two data array together\n",
    "dk=argon.dk\n",
    "\n",
    "#define the k domain\n",
    "omega=np.fft.fftshift(np.fft.fftfreq(len(sk),1/(len(sk)*dk)))\n",
    "\n",
    "#define the P(k) using s(k)\n",
    "P=np.pi*omega*(sk-1)\n",
    "\n",
    "#plot the P(k)\n",
    "plt.plot(omega,P,\"r.-\")\n",
    "plt.xlabel(\"value of k\")\n",
    "plt.show()"
   ]
  },
  {
   "cell_type": "code",
   "execution_count": 181,
   "metadata": {},
   "outputs": [
    {
     "data": {
      "text/plain": [
       "[<matplotlib.lines.Line2D at 0x19960f0dd00>]"
      ]
     },
     "execution_count": 181,
     "metadata": {},
     "output_type": "execute_result"
    },
    {
     "data": {
      "image/png": "[encoded data removed]",
      "text/plain": [
       "<Figure size 432x288 with 1 Axes>"
      ]
     },
     "metadata": {
      "needs_background": "light"
     },
     "output_type": "display_data"
    }
   ],
   "source": [
    "def RDFcalc(S, k, rho):\n",
    "    \n",
    "    #define parameter\n",
    "    dk=0.12\n",
    "    omega=np.fft.fftshift(np.fft.fftfreq(len(S),1/(len(S)*dk)))\n",
    "    P=np.pi*omega*(S-1)\n",
    "    \n",
    "    #trying to get the missing radius parameter from the input\n",
    "    max_r=15.36\n",
    "    start_r=0\n",
    "    r=np.arange(start_r+dk,max_r+dk,dk)\n",
    "    \n",
    "    #trying to get p(r) using DFT of P(k)\n",
    "    p=np.fft.ifft(P)/(len(P)*dk)\n",
    "    g=[0]*len(p)\n",
    "    \n",
    "    #trying to generate g(r) using r and p(r)\n",
    "    for n in range(len(g)):\n",
    "        g[n]=1+1/(2*(np.pi**2)*rho*r[n])\n",
    "        \n",
    "    return g, r\n",
    "    \n",
    "#testing the plot\n",
    "g,r=RDFcalc(argon.YanData,15,argon.massRho)\n",
    "\n",
    "plt.plot(r,g)"
   ]
  },
  {
   "cell_type": "markdown",
   "metadata": {},
   "source": [
    "I don't understand how to output the radius r, when g(r) needs an input of r."
   ]
  },
  {
   "cell_type": "code",
   "execution_count": null,
   "metadata": {},
   "outputs": [],
   "source": []
  }
 ],
 "metadata": {
  "kernelspec": {
   "display_name": "Python 3 (ipykernel)",
   "language": "python",
   "name": "python3"
  },
  "language_info": {
   "codemirror_mode": {
    "name": "ipython",
    "version": 3
   },
   "file_extension": ".py",
   "mimetype": "text/x-python",
   "name": "python",
   "nbconvert_exporter": "python",
   "pygments_lexer": "ipython3",
   "version": "3.9.7"
  }
 },
 "nbformat": 4,
 "nbformat_minor": 4
}
